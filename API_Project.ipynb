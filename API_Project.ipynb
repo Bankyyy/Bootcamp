{
  "nbformat": 4,
  "nbformat_minor": 0,
  "metadata": {
    "colab": {
      "provenance": [],
      "authorship_tag": "ABX9TyNEizY972Mv3Gyhzd5AIpMA",
      "include_colab_link": true
    },
    "kernelspec": {
      "name": "python3",
      "display_name": "Python 3"
    },
    "language_info": {
      "name": "python"
    }
  },
  "cells": [
    {
      "cell_type": "markdown",
      "metadata": {
        "id": "view-in-github",
        "colab_type": "text"
      },
      "source": [
        "<a href=\"https://colab.research.google.com/github/Bankyyy/Bootcamp/blob/main/API_Project.ipynb\" target=\"_parent\"><img src=\"https://colab.research.google.com/assets/colab-badge.svg\" alt=\"Open In Colab\"/></a>"
      ]
    },
    {
      "cell_type": "code",
      "source": [
        "import requests\n",
        "import time\n",
        "\n",
        "from pprint import pprint\n",
        "\n",
        "\n",
        "spotify_get_recent_play_url = \"https://api.spotify.com/v1/me/player/recently-played\"\n",
        "access_token = \"BQAwurpDWxsau3xLHJnifk5meikkNQg0ltIpe2PWCj_PSskAioOxDynfSuT3qfw9-XFWgqmzSQmOVl5GO7Ycp4ICHcaz6oampX3OEo-0xiXJoL96OC-FuO5bZ5wzsdb7tWYCrDfoAgvhGAPdCJNqkVeR70WKAirxAePpqsj3yHWZOoiqB4GOSkr4vfeXSUrEiX5t5CEkM4AjM1U\"\n",
        "\n",
        "def get_recent_track(access_token):\n",
        "    response = requests.get(\n",
        "        spotify_get_recent_play_url,\n",
        "        headers={\n",
        "            \"Authorization\": f\"Bearer {access_token}\"\n",
        "        }\n",
        "    )\n",
        "    json_resp = response.json()\n",
        "\n",
        "    track_id = json_resp['item']['id']\n",
        "    track_name = json_resp['item']['name']\n",
        "    artists = [artist for artist in json_resp['item']['artists']]\n",
        "\n",
        "    link = json_resp['item']['external_urls']['spotify']\n",
        "\n",
        "    artist_names = ', '.join([artist['name'] for artist in artists])\n",
        "\n",
        "    recent_track_info = {\n",
        "    \t\"id\": track_id,\n",
        "    \t\"track_name\": track_name,\n",
        "    \t\"artists\": artist_names,\n",
        "    \t\"link\": link\n",
        "    }\n",
        "\n",
        "\n",
        "    return recent_track_info\n",
        "\n",
        "def main():\n",
        "\trecent_track_id = None\n",
        "\twhile True:\n",
        "\t    recent_track_info = get_recent_track(access_token)\n",
        "\n",
        "\t    if recent_track_info['id'] != recent_track_id:\n",
        "\t\t    pprint(\n",
        "\t\t    \trecent_track_info,\n",
        "\t\t    \tindent=4,\n",
        "\t\t    )\n",
        "\t\t    recent_track_id = recent_track_info['id']\n",
        "\n",
        "\t    time.sleep(1)\n",
        "\n",
        "\n",
        "if __name__ == '__main__':\n",
        "    main()"
      ],
      "metadata": {
        "id": "IboTOP5eJ8cu",
        "colab": {
          "base_uri": "https://localhost:8080/",
          "height": 345
        },
        "outputId": "1cb17099-277a-4e98-f9f2-897c7a75540e"
      },
      "execution_count": null,
      "outputs": [
        {
          "output_type": "error",
          "ename": "KeyError",
          "evalue": "ignored",
          "traceback": [
            "\u001b[0;31m---------------------------------------------------------------------------\u001b[0m",
            "\u001b[0;31mKeyError\u001b[0m                                  Traceback (most recent call last)",
            "\u001b[0;32m<ipython-input-1-70bc7bb3dfc2>\u001b[0m in \u001b[0;36m<module>\u001b[0;34m\u001b[0m\n\u001b[1;32m     51\u001b[0m \u001b[0;34m\u001b[0m\u001b[0m\n\u001b[1;32m     52\u001b[0m \u001b[0;32mif\u001b[0m \u001b[0m__name__\u001b[0m \u001b[0;34m==\u001b[0m \u001b[0;34m'__main__'\u001b[0m\u001b[0;34m:\u001b[0m\u001b[0;34m\u001b[0m\u001b[0;34m\u001b[0m\u001b[0m\n\u001b[0;32m---> 53\u001b[0;31m     \u001b[0mmain\u001b[0m\u001b[0;34m(\u001b[0m\u001b[0;34m)\u001b[0m\u001b[0;34m\u001b[0m\u001b[0;34m\u001b[0m\u001b[0m\n\u001b[0m",
            "\u001b[0;32m<ipython-input-1-70bc7bb3dfc2>\u001b[0m in \u001b[0;36mmain\u001b[0;34m()\u001b[0m\n\u001b[1;32m     38\u001b[0m         \u001b[0mrecent_track_id\u001b[0m \u001b[0;34m=\u001b[0m \u001b[0;32mNone\u001b[0m\u001b[0;34m\u001b[0m\u001b[0;34m\u001b[0m\u001b[0m\n\u001b[1;32m     39\u001b[0m         \u001b[0;32mwhile\u001b[0m \u001b[0;32mTrue\u001b[0m\u001b[0;34m:\u001b[0m\u001b[0;34m\u001b[0m\u001b[0;34m\u001b[0m\u001b[0m\n\u001b[0;32m---> 40\u001b[0;31m             \u001b[0mrecent_track_info\u001b[0m \u001b[0;34m=\u001b[0m \u001b[0mget_recent_track\u001b[0m\u001b[0;34m(\u001b[0m\u001b[0maccess_token\u001b[0m\u001b[0;34m)\u001b[0m\u001b[0;34m\u001b[0m\u001b[0;34m\u001b[0m\u001b[0m\n\u001b[0m\u001b[1;32m     41\u001b[0m \u001b[0;34m\u001b[0m\u001b[0m\n\u001b[1;32m     42\u001b[0m             \u001b[0;32mif\u001b[0m \u001b[0mrecent_track_info\u001b[0m\u001b[0;34m[\u001b[0m\u001b[0;34m'id'\u001b[0m\u001b[0;34m]\u001b[0m \u001b[0;34m!=\u001b[0m \u001b[0mrecent_track_id\u001b[0m\u001b[0;34m:\u001b[0m\u001b[0;34m\u001b[0m\u001b[0;34m\u001b[0m\u001b[0m\n",
            "\u001b[0;32m<ipython-input-1-70bc7bb3dfc2>\u001b[0m in \u001b[0;36mget_recent_track\u001b[0;34m(access_token)\u001b[0m\n\u001b[1;32m     17\u001b[0m     \u001b[0mjson_resp\u001b[0m \u001b[0;34m=\u001b[0m \u001b[0mresponse\u001b[0m\u001b[0;34m.\u001b[0m\u001b[0mjson\u001b[0m\u001b[0;34m(\u001b[0m\u001b[0;34m)\u001b[0m\u001b[0;34m\u001b[0m\u001b[0;34m\u001b[0m\u001b[0m\n\u001b[1;32m     18\u001b[0m \u001b[0;34m\u001b[0m\u001b[0m\n\u001b[0;32m---> 19\u001b[0;31m     \u001b[0mtrack_id\u001b[0m \u001b[0;34m=\u001b[0m \u001b[0mjson_resp\u001b[0m\u001b[0;34m[\u001b[0m\u001b[0;34m'item'\u001b[0m\u001b[0;34m]\u001b[0m\u001b[0;34m[\u001b[0m\u001b[0;34m'id'\u001b[0m\u001b[0;34m]\u001b[0m\u001b[0;34m\u001b[0m\u001b[0;34m\u001b[0m\u001b[0m\n\u001b[0m\u001b[1;32m     20\u001b[0m     \u001b[0mtrack_name\u001b[0m \u001b[0;34m=\u001b[0m \u001b[0mjson_resp\u001b[0m\u001b[0;34m[\u001b[0m\u001b[0;34m'item'\u001b[0m\u001b[0;34m]\u001b[0m\u001b[0;34m[\u001b[0m\u001b[0;34m'name'\u001b[0m\u001b[0;34m]\u001b[0m\u001b[0;34m\u001b[0m\u001b[0;34m\u001b[0m\u001b[0m\n\u001b[1;32m     21\u001b[0m     \u001b[0martists\u001b[0m \u001b[0;34m=\u001b[0m \u001b[0;34m[\u001b[0m\u001b[0martist\u001b[0m \u001b[0;32mfor\u001b[0m \u001b[0martist\u001b[0m \u001b[0;32min\u001b[0m \u001b[0mjson_resp\u001b[0m\u001b[0;34m[\u001b[0m\u001b[0;34m'item'\u001b[0m\u001b[0;34m]\u001b[0m\u001b[0;34m[\u001b[0m\u001b[0;34m'artists'\u001b[0m\u001b[0;34m]\u001b[0m\u001b[0;34m]\u001b[0m\u001b[0;34m\u001b[0m\u001b[0;34m\u001b[0m\u001b[0m\n",
            "\u001b[0;31mKeyError\u001b[0m: 'item'"
          ]
        }
      ]
    },
    {
      "cell_type": "code",
      "source": [],
      "metadata": {
        "id": "GjqTnZG_7rcK"
      },
      "execution_count": null,
      "outputs": []
    }
  ]
}